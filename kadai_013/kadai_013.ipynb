{
  "nbformat": 4,
  "nbformat_minor": 0,
  "metadata": {
    "colab": {
      "provenance": []
    },
    "kernelspec": {
      "name": "python3",
      "display_name": "Python 3"
    },
    "language_info": {
      "name": "python"
    }
  },
  "cells": [
    {
      "cell_type": "code",
      "source": [
        "def comp_price(price:int, taxr:int) -> int:\n",
        "    total = price * (1 + (taxr/100))\n",
        "    print(f\"{total}円\")\n",
        "\n",
        "comp_price(1000, 10)"
      ],
      "metadata": {
        "colab": {
          "base_uri": "https://localhost:8080/"
        },
        "id": "9UOad_ULWoZ7",
        "outputId": "8ecf9a94-6c2e-4e6c-bc3b-f53ef6baed4a"
      },
      "execution_count": 28,
      "outputs": [
        {
          "output_type": "stream",
          "name": "stdout",
          "text": [
            "1100.0円\n"
          ]
        }
      ]
    }
  ]
}