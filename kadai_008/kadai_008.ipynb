{
  "nbformat": 4,
  "nbformat_minor": 0,
  "metadata": {
    "colab": {
      "provenance": []
    },
    "kernelspec": {
      "name": "python3",
      "display_name": "Python 3"
    },
    "language_info": {
      "name": "python"
    }
  },
  "cells": [
    {
      "cell_type": "code",
      "source": [
        "import random\n",
        "\n",
        "var = random.randint(0, 100)\n",
        "#print(var)\n",
        "\n",
        "if var % 3 == 0 and var % 5 == 0:   #3の倍数と5の倍数の両方\n",
        "    print(\"FizzBuzz\")\n",
        "elif var % 3 == 0 :                 #3の倍数\n",
        "    print(\"Fizz\")\n",
        "elif var % 5 == 0 :                 #5の倍数\n",
        "    print(\"Buzz\")\n",
        "else:\n",
        "    print(var)"
      ],
      "metadata": {
        "colab": {
          "base_uri": "https://localhost:8080/"
        },
        "id": "A_x-Q5g8CE2K",
        "outputId": "a21f14e3-a99c-4d15-d3f6-aaa84161974b"
      },
      "execution_count": null,
      "outputs": [
        {
          "output_type": "stream",
          "name": "stdout",
          "text": [
            "82\n"
          ]
        }
      ]
    }
  ]
}